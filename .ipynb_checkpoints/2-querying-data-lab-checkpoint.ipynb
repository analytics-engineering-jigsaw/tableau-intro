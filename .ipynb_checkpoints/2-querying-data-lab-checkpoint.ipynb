{
 "cells": [
  {
   "cell_type": "markdown",
   "id": "8165aa33-269b-44c3-a60c-e7d54902522d",
   "metadata": {},
   "source": [
    "# Querying Data Lab"
   ]
  },
  {
   "cell_type": "markdown",
   "id": "775ca22e-52c1-4cde-b751-bd7b2c230a70",
   "metadata": {},
   "source": [
    "### Introduction"
   ]
  },
  {
   "cell_type": "markdown",
   "id": "2e5619cc-52bd-476a-88cd-24b0a8932de0",
   "metadata": {},
   "source": [
    "In this lesson, we'll work with the olist dataset.  Let's get started."
   ]
  },
  {
   "cell_type": "markdown",
   "id": "df4aa2bd-85cd-461c-8378-1e9dff81cc4e",
   "metadata": {},
   "source": [
    "### Loading our data"
   ]
  },
  {
   "cell_type": "markdown",
   "id": "bd383fad-0ef8-4baa-b9a5-1cf1d5f82603",
   "metadata": {},
   "source": [
    "You can find the dataset in the `/data` folder.  Find the `olist_order_items.csv` file, and drag and drop it into tableau desktop."
   ]
  },
  {
   "cell_type": "markdown",
   "id": "e626df53-13fa-452f-b3d1-f7cfe1715a79",
   "metadata": {},
   "source": [
    "From there, you should see `olist_order_items` listed as your connection in the top left."
   ]
  },
  {
   "cell_type": "markdown",
   "id": "583b6c14-9a51-49d5-ba53-34a5db7cf040",
   "metadata": {},
   "source": [
    "<img src=\"./olist-order-items-conn.png\" width=\"60%\">"
   ]
  },
  {
   "cell_type": "markdown",
   "id": "8ad93ef4-57a9-4f73-94eb-0fdac9563716",
   "metadata": {},
   "source": [
    "And you should see that you are on the Data Source tab, as indicated in the bottom left.\n",
    "\n",
    "Now let's move towards creating a worksheet, by clicking on `Sheet 1` at the bottom of Tableau."
   ]
  },
  {
   "cell_type": "markdown",
   "id": "783e7084-fcbf-4de3-a269-0483f9824f67",
   "metadata": {},
   "source": [
    "### Building a Worksheet"
   ]
  },
  {
   "cell_type": "markdown",
   "id": "20a7bbfb-c3cc-4c8d-873a-ee87e99d0084",
   "metadata": {},
   "source": [
    "In our worksheet, we can see the `fields` over to the left."
   ]
  },
  {
   "cell_type": "markdown",
   "id": "02175d80-7a25-4f38-88d1-d456255af0be",
   "metadata": {},
   "source": [
    "> <img src=\"./field-mark.png\" width=\"40%\">"
   ]
  },
  {
   "cell_type": "markdown",
   "id": "91caae28-6b70-414a-986e-b904b9e2a45e",
   "metadata": {},
   "source": [
    "Notice that our fields are organized into the **dimensions** (the categorical fields) up top and the **measures** towards the bottom."
   ]
  },
  {
   "cell_type": "markdown",
   "id": "3cfdf543-ce85-4b79-97f2-9fd76ef7287d",
   "metadata": {},
   "source": [
    "### Start broad and go narrow"
   ]
  },
  {
   "cell_type": "markdown",
   "id": "448ffc91-5b8d-451b-ae71-c1abc424a742",
   "metadata": {},
   "source": [
    "Ok, so now let's see how our various products perform.  Show a chart of the total revenue per product (calculated by summing the price of products across all orders).  \n",
    "\n",
    "> Order from highest revenue per product to least.m"
   ]
  },
  {
   "cell_type": "markdown",
   "id": "f4768094-8b7c-4ed0-8a10-fcf18e02e23c",
   "metadata": {},
   "source": [
    "<img src=\"./product-id.png\" width=\"80%\">"
   ]
  },
  {
   "cell_type": "markdown",
   "id": "188a0580-7f34-448c-b52b-6f85556e8cb0",
   "metadata": {},
   "source": [
    "Now go to the `Marks` panel to the left of the chart, and change the type of graph to a line chart."
   ]
  },
  {
   "cell_type": "markdown",
   "id": "b9a1ec9a-53f9-4ec2-8331-e22e495d7812",
   "metadata": {},
   "source": [
    "<img src=\"./line-chart.png\" width=\"60%\">"
   ]
  },
  {
   "cell_type": "markdown",
   "id": "c89603f2-074a-4c57-a58a-8dcab3b69ee6",
   "metadata": {},
   "source": [
    "Ok, now let's change it back to the bar chart. \n",
    "\n",
    "Now if you look at the x-axis at the bottom you'll see that it says price.  But a better label would be `Total Revenue`.  So double click on the text that says `Price`, and then change the title to `Total Revenue`."
   ]
  },
  {
   "cell_type": "markdown",
   "id": "f24f03d0-e4a7-478c-8c9f-28b8c2b53865",
   "metadata": {},
   "source": [
    "> <img src=\"./total-revenue.png\" width=\"70%\">"
   ]
  },
  {
   "cell_type": "markdown",
   "id": "71051554-439d-4d3f-9028-adfc0d7e550b",
   "metadata": {},
   "source": [
    "If you exit out of the Axis panel (click the `x` at the top right), you should see that the label has changed."
   ]
  },
  {
   "cell_type": "markdown",
   "id": "9eea1f6f-2ad6-48ec-a947-4a8d7096701e",
   "metadata": {},
   "source": [
    "* Breakdown by year"
   ]
  },
  {
   "cell_type": "markdown",
   "id": "ff1ff321-356f-4923-84e5-5fc0c48c2e2a",
   "metadata": {},
   "source": [
    "Now let's see if we can provide a breakdown by year.  Click on the icon to add a new chart.  It's right next to Sheet 1."
   ]
  },
  {
   "cell_type": "markdown",
   "id": "902d00dd-0bef-4924-ad27-7cd137932941",
   "metadata": {},
   "source": [
    "<img src=\"./add-sheet-1.png\" width=\"70%\">"
   ]
  },
  {
   "cell_type": "markdown",
   "id": "26b72916-7ebe-43b2-ade4-72260e784588",
   "metadata": {},
   "source": [
    "After clicking, you should see `Sheet 2`, and then click on `Sheet 2`.  Now let's display the total income by year.  Ultimately we want the chart to look like the following:"
   ]
  },
  {
   "cell_type": "markdown",
   "id": "d5f84a00-90fb-495f-bd41-9431ec395aab",
   "metadata": {},
   "source": [
    "<img src=\"./tableau-year.png\" width=\"40%\">"
   ]
  },
  {
   "cell_type": "markdown",
   "id": "8ae3bb83-a584-4417-b97c-4dffe897ccdb",
   "metadata": {},
   "source": [
    "To achieve this, we'll need `price` in our rows, and `Shipping Limit Date` in the year.  If you click on the down arrow next to `Shipping Date Limit`, you'll see we have the option to group by multiple date properties (Year, Quarter)."
   ]
  },
  {
   "cell_type": "markdown",
   "id": "edf89d4d-9537-4dae-ac9c-f7ee60670aa5",
   "metadata": {},
   "source": [
    "<img src=\"./group-by.png\" width=\"70%\">"
   ]
  },
  {
   "cell_type": "markdown",
   "id": "da475be8-f4aa-4c27-a528-f1eb5c268160",
   "metadata": {},
   "source": [
    "Now it would be nice to see a group by the month - but if we just group by month then this will show say Jan 2017 and Jan 2018 as a single month.  \n",
    "\n",
    "So instead we need to group by year *and* month.  Accomplish this by dragging `Shipping Limit Date` over to Columns, and this time clicking the down arrow and selecting Month."
   ]
  },
  {
   "cell_type": "markdown",
   "id": "b90f093c-27c5-4e38-8260-7501f2f10fe2",
   "metadata": {},
   "source": [
    "> We should get to the following chart."
   ]
  },
  {
   "cell_type": "markdown",
   "id": "79d752a8-1fb6-4638-bb3b-b0678c904dbe",
   "metadata": {},
   "source": [
    "<img src=\"./chart-months.png\" width=\"60%\">"
   ]
  },
  {
   "cell_type": "markdown",
   "id": "00d205b3-cad7-4273-956d-106576aaa4a8",
   "metadata": {},
   "source": [
    "* Creating a split chart."
   ]
  },
  {
   "cell_type": "markdown",
   "id": "a90cfc07-ca4d-4086-9319-a74eda1ea72b",
   "metadata": {},
   "source": [
    "In addition, we can show the revenue by month and the freight by month side by side, if we drag and drop the freight value in the Rows next to Sum(Price)."
   ]
  },
  {
   "cell_type": "markdown",
   "id": "e4cd78b3-5af9-4566-b959-3f1c360f3e43",
   "metadata": {},
   "source": [
    "<img src=\"./freight-value.png\" width=\"50%\">"
   ]
  },
  {
   "cell_type": "markdown",
   "id": "f42650a3-39c8-4344-9fc7-d3978daa058c",
   "metadata": {},
   "source": [
    "Ok, now remove the freight value, by dragging it out of the Rows field.  \n",
    "\n",
    "Then, we can add an annotation to our chart.  To do this, right click on the blue bar, and under `Mark Label` click `Always show`.  \n",
    "\n",
    "We can see that is now labeled."
   ]
  },
  {
   "cell_type": "markdown",
   "id": "b56753a4-a934-495b-a0ac-e1e0ed6b94ed",
   "metadata": {},
   "source": [
    "<img src=\"./labeled-data.png\" width=\"60%\">"
   ]
  },
  {
   "cell_type": "markdown",
   "id": "1c0ff47b-95af-4b24-ad15-bba6986a828b",
   "metadata": {},
   "source": [
    "Ok, now let's try a different annotation.  To do this, right click on the blue bar, and then click `Mark Label` and check `Never Show`.  Then right click on that same bar for May and click on `Annotate Mark` -- then replace the existing text with the following."
   ]
  },
  {
   "cell_type": "markdown",
   "id": "7df9bbe8-8c70-4bc8-b58d-1f77760543d2",
   "metadata": {},
   "source": [
    "<img src=\"./may-sales.png\" width=\"60%\">"
   ]
  },
  {
   "cell_type": "markdown",
   "id": "48ce906e-70d6-4233-8b17-d78d0077baf6",
   "metadata": {},
   "source": [
    "<img src=\"./annotated-sales.png\" width=\"60%\">"
   ]
  },
  {
   "cell_type": "markdown",
   "id": "5015db48-3a67-40ac-8c7c-6bd840437124",
   "metadata": {},
   "source": [
    "You can click on the annotation box, and drag it to a different location."
   ]
  },
  {
   "cell_type": "markdown",
   "id": "056c1748-dec2-4911-870b-d2d5b8bbebe1",
   "metadata": {},
   "source": [
    "> Save this before you exit.  We'll use this in the next lab."
   ]
  },
  {
   "cell_type": "markdown",
   "id": "83e9e2d7-e767-49c8-acf6-5409fb22541a",
   "metadata": {},
   "source": [
    "### Summary"
   ]
  },
  {
   "cell_type": "markdown",
   "id": "1adc09c3-bb14-408b-af4f-5ce6e14b3914",
   "metadata": {},
   "source": [
    "In this lesson, we saw how to group our data, and also work with datetime today.  After grouping the data, we can click on the axis to sort the data.  \n",
    "\n",
    "And we can double click on an axis to edit the Axis title.  \n",
    "\n",
    "We also worked with datetime data.  For example, displayed total monthly sales by dragging both Year and Month into the Columns to separate revenue by each month.\n",
    "\n",
    "Finally, we worked with annotations.  We did this by right clicking on a specific point, and selecting `Mark Label` > `Always Show`.  Then we moved it back to Never Show.  And finally, we added a custom annotation, by right clicking on the same bar and selecting `Annotate` > `Mark` and then changing the text to our custom text. "
   ]
  }
 ],
 "metadata": {
  "kernelspec": {
   "display_name": "Python 3 (ipykernel)",
   "language": "python",
   "name": "python3"
  },
  "language_info": {
   "codemirror_mode": {
    "name": "ipython",
    "version": 3
   },
   "file_extension": ".py",
   "mimetype": "text/x-python",
   "name": "python",
   "nbconvert_exporter": "python",
   "pygments_lexer": "ipython3",
   "version": "3.9.12"
  }
 },
 "nbformat": 4,
 "nbformat_minor": 5
}
