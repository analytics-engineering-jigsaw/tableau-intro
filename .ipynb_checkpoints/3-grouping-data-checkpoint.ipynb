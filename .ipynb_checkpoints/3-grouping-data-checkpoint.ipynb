{
 "cells": [
  {
   "cell_type": "markdown",
   "id": "4e3c956e-890d-49c8-b13d-b91596c93a6b",
   "metadata": {},
   "source": [
    "# Performing Aggregates"
   ]
  },
  {
   "cell_type": "markdown",
   "id": "22e862af-be74-4912-98c6-1596ca2d9663",
   "metadata": {},
   "source": [
    "### Grouping"
   ]
  },
  {
   "cell_type": "markdown",
   "id": "73980fa0-2a65-4683-a18e-a2004aa84bd5",
   "metadata": {},
   "source": [
    "To start, we can drag the column `Genre` in the main area under `Sheet 1`.  And then we can also drag in `income`."
   ]
  },
  {
   "cell_type": "markdown",
   "id": "5f58bc92-2178-4214-8efd-bad54669aea8",
   "metadata": {},
   "source": [
    "<img src=\"./genre-income.png\">"
   ]
  },
  {
   "cell_type": "markdown",
   "id": "31c17e23-4fae-476c-a4be-c2157b9374f9",
   "metadata": {},
   "source": [
    "> You can see that tableau is performing `Sum(Income)` in green above."
   ]
  },
  {
   "cell_type": "markdown",
   "id": "fa99592a-78f5-4c4e-898d-bceb9d2ac3a5",
   "metadata": {},
   "source": [
    "If you take the `Sum(Income)` and drag it to columns, then you'll see that turn it to a horizontal chart.  "
   ]
  },
  {
   "cell_type": "markdown",
   "id": "45f9f744-8707-4c8a-883a-1cae274db2ad",
   "metadata": {},
   "source": [
    "<img src=\"genre-chart.png\" width=\"70%\">"
   ]
  },
  {
   "cell_type": "markdown",
   "id": "0a117f20-de1a-4dbc-8495-dc93ca91b155",
   "metadata": {},
   "source": [
    "> So `columns` just means what's on the X axis, whereas `rows` is on the y axis.  You can always turn the above into a vertical bar chart by switching what's in the rows and columns."
   ]
  },
  {
   "cell_type": "markdown",
   "id": "5471fec6-f942-4686-9f74-c809c75b4c88",
   "metadata": {},
   "source": [
    "At this point, we can see that our data is sorted by category name, as opposed to our sum.  So we can change how we sort our chart, by clicking on `Genre` at the top left of the chart, followed by `field` and then `SUM(income)`."
   ]
  },
  {
   "cell_type": "markdown",
   "id": "3e7bb67f-7786-4395-901e-695d6b25df1c",
   "metadata": {},
   "source": [
    "<img src=\"./sort-genre.png\">"
   ]
  },
  {
   "cell_type": "markdown",
   "id": "42ea54a0-7cfd-4a85-a0ed-f0e7917a09e6",
   "metadata": {},
   "source": [
    "Another way to sort our data, is hover over the attribute -- here the bar representing income, and then click that."
   ]
  },
  {
   "cell_type": "markdown",
   "id": "adb24da4-59d6-49bc-8aea-7255ae4a564b",
   "metadata": {},
   "source": [
    "<img src=\"./sort-field.png\">"
   ]
  },
  {
   "cell_type": "markdown",
   "id": "97796a55-0e36-463c-8c60-dd203af20c4c",
   "metadata": {
    "tags": []
   },
   "source": [
    "### Changing the Group By"
   ]
  },
  {
   "cell_type": "markdown",
   "id": "c91e8dba-f4d8-406d-b5c5-3c17e5798433",
   "metadata": {},
   "source": [
    "Ok, let's see what else we can change.  Let's double click on the Columns that says `SUM(Income)` and change the text to `AVG(Income)`."
   ]
  },
  {
   "cell_type": "markdown",
   "id": "e091c2de-c197-495d-bf7b-5f369f3b6907",
   "metadata": {},
   "source": [
    "<img src=\"./avg-income.png\">"
   ]
  },
  {
   "cell_type": "markdown",
   "id": "7791f9ee-bc0f-41ea-ae1e-72e908968e11",
   "metadata": {},
   "source": [
    "We'll see that we just changed the calculation, and that even at the bottom of our x axis, the label has changed to `Avg. Income`."
   ]
  },
  {
   "cell_type": "markdown",
   "id": "d6cbbf61-1c78-4c8b-ac0f-76bcf40c6e4b",
   "metadata": {},
   "source": [
    "Ok, so far we saw how we can group our data by a specific attribute, like genre, and also how to change what we are calculating -- from sum to average.  We also saw how to sort our data by different attributes."
   ]
  },
  {
   "cell_type": "markdown",
   "id": "fd07bd18-8028-40e6-8584-3736e8cfa7ab",
   "metadata": {},
   "source": [
    "### Filtering Data"
   ]
  },
  {
   "cell_type": "code",
   "execution_count": null,
   "id": "be0490f1-5c8f-4a1c-851e-acfec67fc86e",
   "metadata": {},
   "outputs": [],
   "source": [
    "Now let's work with a "
   ]
  }
 ],
 "metadata": {
  "kernelspec": {
   "display_name": "Python 3 (ipykernel)",
   "language": "python",
   "name": "python3"
  },
  "language_info": {
   "codemirror_mode": {
    "name": "ipython",
    "version": 3
   },
   "file_extension": ".py",
   "mimetype": "text/x-python",
   "name": "python",
   "nbconvert_exporter": "python",
   "pygments_lexer": "ipython3",
   "version": "3.9.12"
  }
 },
 "nbformat": 4,
 "nbformat_minor": 5
}
