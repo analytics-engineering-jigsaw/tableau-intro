{
 "cells": [
  {
   "cell_type": "markdown",
   "id": "4e3c956e-890d-49c8-b13d-b91596c93a6b",
   "metadata": {},
   "source": [
    "# Scatter Plots"
   ]
  },
  {
   "cell_type": "markdown",
   "id": "078d5ef5-9eb5-427c-b7a0-9f7619b0d3b3",
   "metadata": {},
   "source": [
    "### Introduction"
   ]
  },
  {
   "cell_type": "markdown",
   "id": "ffcfe374-bdbc-4d11-82b9-ed9389c1e67e",
   "metadata": {},
   "source": [
    "So far we have used tableau to display a specific kind of plot -- histograms.   "
   ]
  },
  {
   "cell_type": "markdown",
   "id": "dd6cad9f-619f-457a-8956-ad18b2b913e7",
   "metadata": {},
   "source": [
    "<img src=\"./sort-genre.png\">"
   ]
  },
  {
   "cell_type": "markdown",
   "id": "0b866d5d-a3e7-459e-9687-9e6d8094aa88",
   "metadata": {},
   "source": [
    "With a histogram, we divide our data into categories.  For example above, we are adding the income into groups based on the genre.\n",
    "\n",
    "Histograms work well when we have a dimension on one axis, and a numeric amount on the other.  But what if we have two numbers.  For that, to show the relationship between numbers -- it's best to use a scatter plot."
   ]
  },
  {
   "cell_type": "markdown",
   "id": "5702dae2-f738-45d5-8a97-47a24252f057",
   "metadata": {},
   "source": [
    "### Scatter Plots"
   ]
  },
  {
   "cell_type": "markdown",
   "id": "8b8ee07a-9e41-435d-81ef-7b5572c361c2",
   "metadata": {},
   "source": [
    "So let's get started.  We can begin by dragging the income to rows (the y axis) and budget to columns (the x axis)."
   ]
  },
  {
   "cell_type": "markdown",
   "id": "55de873d-d6dd-4ef5-9989-b9fb085d8c70",
   "metadata": {},
   "source": [
    "<img src=\"./scatter-income.png\" width=\"70%\">"
   ]
  },
  {
   "cell_type": "markdown",
   "id": "abaac4c5-e80f-4821-9003-9ee8039c8780",
   "metadata": {},
   "source": [
    "This is not exactly what we wanted.  We see only one marker for our ten movies, because tableau is adding up our dataset and plotting the total budget against the total income.\n",
    "\n",
    "We can fix this by clicking on analysis and then uncheck `aggregate measures`."
   ]
  },
  {
   "cell_type": "markdown",
   "id": "cb3a801f-ec23-41f0-b2db-6860207f9d6e",
   "metadata": {},
   "source": [
    "<img src=\"./aggregate.png\" width=\"50%\">"
   ]
  },
  {
   "cell_type": "markdown",
   "id": "3ea7cf7e-93df-4742-8fd1-a1275a74d13a",
   "metadata": {},
   "source": [
    "Now we'll see tableau is no longer adding up our data, and we get a proper plot."
   ]
  },
  {
   "cell_type": "markdown",
   "id": "5a42b046-f8dc-4957-aafa-3083b8a7754a",
   "metadata": {},
   "source": [
    "> <img src=\"./plot-proper.png\" width=\"70%\">"
   ]
  },
  {
   "cell_type": "markdown",
   "id": "a15f5ebe-d8bb-4b6a-aa3e-04e7aaa4e820",
   "metadata": {},
   "source": [
    "Now we have plotted the each movie's budget and income, but it would be nice if we could see what movie each datapoint represented.\n",
    "\n",
    "So drag `Title` on top of the label field in the `Marks` box.  And you'll see our data labeled."
   ]
  },
  {
   "cell_type": "markdown",
   "id": "8b74e309-0047-4f13-ac32-d79f2b7d5b68",
   "metadata": {},
   "source": [
    "<img src=\"./plot-title.png\">"
   ]
  },
  {
   "cell_type": "markdown",
   "id": "4f342bbe-357c-4050-8d8b-34912e7c9995",
   "metadata": {},
   "source": [
    "### Group by scatter plot"
   ]
  },
  {
   "cell_type": "markdown",
   "id": "381539ff-b4da-4716-8ecb-873cb37661e7",
   "metadata": {},
   "source": [
    "Now let's work say we want to plot the amount spent on each genre by the amount earned by each genre.  To do so, we can move Genre into the Marks box, by label.    And then, because we want our data to be aggregated, go back to the analysis tab and recheck the box for `Aggregate Measures`."
   ]
  },
  {
   "cell_type": "markdown",
   "id": "22a729bd-c4b1-4cb6-a486-fda59c9a1617",
   "metadata": {},
   "source": [
    "<img src=\"./aggregate-plot.png\" width=\"80%\">"
   ]
  },
  {
   "cell_type": "markdown",
   "id": "3f5a5a6d-21f5-49ff-9ec7-fbbdf8e4dd54",
   "metadata": {},
   "source": [
    "Finally, we also moved over the `Sum(Income)` to the label box so that we are also displaying the amount each category is earning. "
   ]
  },
  {
   "cell_type": "markdown",
   "id": "0bc3a278-0b17-4030-8ce4-2729565fea55",
   "metadata": {},
   "source": [
    "### Scatterplots - Choosing X and Y"
   ]
  },
  {
   "cell_type": "markdown",
   "id": "362d147a-b27a-439d-9f2e-ec8fb7754bf8",
   "metadata": {},
   "source": [
    "With scatter plots, one choice you'll need to make is what should be in the X variable and what should be plotted on the Y axis.  The Y axis is for the *response variable* or the item we are trying to optimize for.  So above, we chose Income as the Y variable, as we are trying to optimize for income.  \n",
    "\n",
    "On the X axis, we can plot our **explanatory variable** -- that is an attribute that can explain the change in our **response variable**.  So above, we are saying that a change in the budget explains a change in the amount of income earned."
   ]
  },
  {
   "cell_type": "markdown",
   "id": "2e996fa6-ee7a-42e3-8c0f-37bb88f913e5",
   "metadata": {},
   "source": [
    "* But does it?"
   ]
  },
  {
   "cell_type": "markdown",
   "id": "e79e0455-32cf-4cc5-aa0f-150b53b525a1",
   "metadata": {},
   "source": [
    "One of the mantras of data analysis is that correlation does not equal causation.  That is just because as budget increases income increases, this does not mean that spending more money directly causes an increase in income.\n",
    "\n",
    "It takes a lot more to prove cause and effect.  So charts like those above, can just be the beginning of further research.  "
   ]
  },
  {
   "cell_type": "markdown",
   "id": "162e4bf5-9367-4956-a85c-564d088a6c0b",
   "metadata": {},
   "source": [
    "### Be careful of grouping"
   ]
  },
  {
   "cell_type": "markdown",
   "id": "85511ab0-9428-436e-8869-066084ca4f90",
   "metadata": {},
   "source": [
    "Finally, we should also be careful when drawing conclusions from grouped data.  For example, with our scatter plot we can say our action-adventure-sci-fi movies earned more total money -- but that does not mean that they earned more on average.  It could just be that there were more action-adventure-scifi movies.  \n",
    "\n",
    "So to see if more was earned per action-adventure-scifi movie, we should make sure to use the average as opposed to the sum."
   ]
  },
  {
   "cell_type": "markdown",
   "id": "0d4964fd-2908-4d53-9be9-aa834af43d93",
   "metadata": {},
   "source": [
    "<img src=\"./aggregate-plot.png\" width=\"80%\">"
   ]
  },
  {
   "cell_type": "markdown",
   "id": "8bd93c04-e5ad-40f5-958c-4076a5b80d15",
   "metadata": {},
   "source": [
    "### Summary"
   ]
  },
  {
   "cell_type": "markdown",
   "id": "05922a83-7070-4986-9021-7000b1c27456",
   "metadata": {},
   "source": [
    "In this lesson, we saw how to create scatter plots in tableau.  We did so by moving two numeric attributes to our working area, and then we disaggregated our data by selecting `Analysis` and unchecking `Aggregate Measures`.\n",
    "\n",
    "<img src=\"./aggregate.png\" width=\"50%\">"
   ]
  },
  {
   "cell_type": "markdown",
   "id": "94196b6f-a4f1-45ed-a0e5-a8dc777fe2a0",
   "metadata": {},
   "source": [
    "Then we saw how we can create aggregate plots by moving attributes into our Marks box.  For example, we grouped by the category and then plotted the total budget and income by category."
   ]
  },
  {
   "cell_type": "markdown",
   "id": "d5e608c3-bd27-4eeb-8959-0bcb1feb4fe2",
   "metadata": {},
   "source": [
    "<img src=\"./aggregate-plot.png\" width=\"80%\">"
   ]
  },
  {
   "cell_type": "markdown",
   "id": "72bac22d-3b54-4393-a35b-658afe8b952a",
   "metadata": {},
   "source": [
    "Finally, we briefly discussed correlation vs causation as well as the dangers of grouping data. "
   ]
  }
 ],
 "metadata": {
  "kernelspec": {
   "display_name": "Python 3 (ipykernel)",
   "language": "python",
   "name": "python3"
  },
  "language_info": {
   "codemirror_mode": {
    "name": "ipython",
    "version": 3
   },
   "file_extension": ".py",
   "mimetype": "text/x-python",
   "name": "python",
   "nbconvert_exporter": "python",
   "pygments_lexer": "ipython3",
   "version": "3.9.12"
  }
 },
 "nbformat": 4,
 "nbformat_minor": 5
}
