{
 "cells": [
  {
   "cell_type": "markdown",
   "id": "4e3c956e-890d-49c8-b13d-b91596c93a6b",
   "metadata": {},
   "source": [
    "# Performing Aggregates"
   ]
  },
  {
   "cell_type": "markdown",
   "id": "22e862af-be74-4912-98c6-1596ca2d9663",
   "metadata": {},
   "source": [
    "### Grouping"
   ]
  },
  {
   "cell_type": "markdown",
   "id": "73980fa0-2a65-4683-a18e-a2004aa84bd5",
   "metadata": {},
   "source": [
    "To start, we can drag the column `Genre` in the main area under `Sheet 1`.  And then we can also drag in `income`."
   ]
  },
  {
   "cell_type": "markdown",
   "id": "5f58bc92-2178-4214-8efd-bad54669aea8",
   "metadata": {},
   "source": [
    "<img src=\"./genre-income.png\">"
   ]
  },
  {
   "cell_type": "markdown",
   "id": "31c17e23-4fae-476c-a4be-c2157b9374f9",
   "metadata": {},
   "source": [
    "> You can see that tableau is performing `Sum(Income)` in green above."
   ]
  },
  {
   "cell_type": "markdown",
   "id": "fa99592a-78f5-4c4e-898d-bceb9d2ac3a5",
   "metadata": {},
   "source": [
    "If you take the `Sum(Income)` and drag it to columns, then you'll see that turn it to a horizontal chart.  "
   ]
  },
  {
   "cell_type": "markdown",
   "id": "45f9f744-8707-4c8a-883a-1cae274db2ad",
   "metadata": {},
   "source": [
    "<img src=\"genre-chart.png\" width=\"70%\">"
   ]
  },
  {
   "cell_type": "markdown",
   "id": "0a117f20-de1a-4dbc-8495-dc93ca91b155",
   "metadata": {},
   "source": [
    "> So `columns` just means what's on the X axis, whereas `rows` is on the y axis.  You can always turn the above into a vertical bar chart by switching what's in the rows and columns."
   ]
  },
  {
   "cell_type": "markdown",
   "id": "fd07bd18-8028-40e6-8584-3736e8cfa7ab",
   "metadata": {},
   "source": [
    "### Filtering Data"
   ]
  },
  {
   "cell_type": "code",
   "execution_count": null,
   "id": "be0490f1-5c8f-4a1c-851e-acfec67fc86e",
   "metadata": {},
   "outputs": [],
   "source": [
    "Now let's work with a "
   ]
  }
 ],
 "metadata": {
  "kernelspec": {
   "display_name": "Python 3 (ipykernel)",
   "language": "python",
   "name": "python3"
  },
  "language_info": {
   "codemirror_mode": {
    "name": "ipython",
    "version": 3
   },
   "file_extension": ".py",
   "mimetype": "text/x-python",
   "name": "python",
   "nbconvert_exporter": "python",
   "pygments_lexer": "ipython3",
   "version": "3.9.12"
  }
 },
 "nbformat": 4,
 "nbformat_minor": 5
}
