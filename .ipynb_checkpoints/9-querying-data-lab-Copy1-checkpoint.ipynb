{
 "cells": [
  {
   "cell_type": "markdown",
   "id": "8165aa33-269b-44c3-a60c-e7d54902522d",
   "metadata": {},
   "source": [
    "# Querying Data Lab"
   ]
  },
  {
   "cell_type": "markdown",
   "id": "775ca22e-52c1-4cde-b751-bd7b2c230a70",
   "metadata": {},
   "source": [
    "### Introduction"
   ]
  },
  {
   "cell_type": "markdown",
   "id": "2e5619cc-52bd-476a-88cd-24b0a8932de0",
   "metadata": {},
   "source": [
    "In this lesson, we'll work with the netflix dataset.  Let's get started."
   ]
  },
  {
   "cell_type": "markdown",
   "id": "df4aa2bd-85cd-461c-8378-1e9dff81cc4e",
   "metadata": {},
   "source": [
    "### Loading our data"
   ]
  },
  {
   "cell_type": "markdown",
   "id": "bd383fad-0ef8-4baa-b9a5-1cf1d5f82603",
   "metadata": {},
   "source": [
    "You can find the dataset in the `/data` folder.  Find the `netflix_show.csv` file, and drag and drop it into tableau desktop."
   ]
  },
  {
   "cell_type": "markdown",
   "id": "e626df53-13fa-452f-b3d1-f7cfe1715a79",
   "metadata": {},
   "source": [
    "From there, you should see `netflix_shows` listed as your connection in the top left."
   ]
  },
  {
   "cell_type": "markdown",
   "id": "583b6c14-9a51-49d5-ba53-34a5db7cf040",
   "metadata": {},
   "source": [
    "<img src=\"./connection-tab.png\" width=\"30%\">"
   ]
  },
  {
   "cell_type": "markdown",
   "id": "8ad93ef4-57a9-4f73-94eb-0fdac9563716",
   "metadata": {},
   "source": [
    "And you should see that you are on the Data Source tab.\n",
    "\n",
    "Now let's move towards creating a worksheet, by clicking on `Sheet 1` at the bottom of Tableau."
   ]
  },
  {
   "cell_type": "markdown",
   "id": "783e7084-fcbf-4de3-a269-0483f9824f67",
   "metadata": {},
   "source": [
    "### Building a Worksheet"
   ]
  },
  {
   "cell_type": "markdown",
   "id": "20a7bbfb-c3cc-4c8d-873a-ee87e99d0084",
   "metadata": {},
   "source": [
    "In our worksheet, we can see the `fields` over to the left."
   ]
  },
  {
   "cell_type": "markdown",
   "id": "02175d80-7a25-4f38-88d1-d456255af0be",
   "metadata": {},
   "source": [
    "> <img src=\"./fields.png\" width=\"40%\">"
   ]
  },
  {
   "cell_type": "markdown",
   "id": "91caae28-6b70-414a-986e-b904b9e2a45e",
   "metadata": {},
   "source": [
    "Notice that our fields are organized into the **dimensions** (the categorical fields) up top and the **measures** towards the bottom."
   ]
  },
  {
   "cell_type": "markdown",
   "id": "3cfdf543-ce85-4b79-97f2-9fd76ef7287d",
   "metadata": {},
   "source": [
    "### Start broad and go narrow"
   ]
  },
  {
   "cell_type": "markdown",
   "id": "448ffc91-5b8d-451b-ae71-c1abc424a742",
   "metadata": {},
   "source": [
    "* Overall breakdown by type"
   ]
  },
  {
   "cell_type": "markdown",
   "id": "bfc753f7-6a83-4ad4-aa2a-ec721e9678b9",
   "metadata": {},
   "source": [
    "<img src=\"./amount-breakdown.png\" width=\"60%\">"
   ]
  },
  {
   "cell_type": "markdown",
   "id": "9eea1f6f-2ad6-48ec-a947-4a8d7096701e",
   "metadata": {},
   "source": [
    "* Breakdown by year"
   ]
  },
  {
   "cell_type": "code",
   "execution_count": null,
   "id": "ecadaf02-59f0-46a6-9bdd-b005190f7a49",
   "metadata": {},
   "outputs": [],
   "source": []
  }
 ],
 "metadata": {
  "kernelspec": {
   "display_name": "Python 3 (ipykernel)",
   "language": "python",
   "name": "python3"
  },
  "language_info": {
   "codemirror_mode": {
    "name": "ipython",
    "version": 3
   },
   "file_extension": ".py",
   "mimetype": "text/x-python",
   "name": "python",
   "nbconvert_exporter": "python",
   "pygments_lexer": "ipython3",
   "version": "3.9.12"
  }
 },
 "nbformat": 4,
 "nbformat_minor": 5
}
