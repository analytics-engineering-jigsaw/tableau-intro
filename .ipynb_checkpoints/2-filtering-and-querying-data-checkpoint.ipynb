{
 "cells": [
  {
   "cell_type": "markdown",
   "id": "94dbc331-617b-4f79-9a9f-16ec4928d65f",
   "metadata": {},
   "source": [
    "# Querying Data"
   ]
  },
  {
   "cell_type": "markdown",
   "id": "dc32a9ab-ec3a-4169-867e-0252d4ba8c69",
   "metadata": {},
   "source": [
    "<img src=\"./title.png\" width=\"70%\">"
   ]
  },
  {
   "cell_type": "markdown",
   "id": "11a34022-66e7-4bab-9f6f-8050128fb5b8",
   "metadata": {},
   "source": [
    "You can see that this created a table, and that each row is a different title.  You can also see that `title` is listed in teal in the `Rows` field up top."
   ]
  },
  {
   "cell_type": "markdown",
   "id": "9c0b12db-2782-4241-ab92-80e1ab74e8f8",
   "metadata": {},
   "source": [
    "Now from the left click on the Income field and drag and drop it over to columns."
   ]
  },
  {
   "cell_type": "markdown",
   "id": "551ba918-98e6-467a-9734-f7e6372265b9",
   "metadata": {},
   "source": [
    "<img src=\"./title-income.png\">"
   ]
  },
  {
   "cell_type": "markdown",
   "id": "f44bbaf2-1406-4298-bdb6-55d76daa861b",
   "metadata": {},
   "source": [
    "We can see that it automatically changed our data into a bar chart.  Why is our chart horizontal?  It's because Income is listed under columns -- so really you can think of Columns as indicating the X axis.  \n",
    "\n",
    "> The other thing you'll notice is that it says `Sum(Income)` under Columns.  This is because if we had moved Director under rows, it would group by Director and then sum the income per director.  And here, because there is only one record per title -- applying the sum has no effect."
   ]
  },
  {
   "cell_type": "markdown",
   "id": "44007aa3-db20-41b6-b947-bd5528b1029d",
   "metadata": {},
   "source": [
    "### Sorting"
   ]
  },
  {
   "cell_type": "markdown",
   "id": "473a4de0-6f44-4b0b-86f9-ff3d03b7805e",
   "metadata": {},
   "source": [
    "Ok, now let's sort our data.  Currently our data is sorted by the Title of the movie.  But we can instead sort our data by income if we click on the word Title, then choose field and Sum(Income)."
   ]
  },
  {
   "cell_type": "markdown",
   "id": "3b925ce0-90aa-47b3-9296-0a40405afcbb",
   "metadata": {},
   "source": [
    "<img src=\"./sorting-data.png\">"
   ]
  },
  {
   "cell_type": "markdown",
   "id": "7b8d3b71-2e77-41e9-b7a8-7ff0ce48787a",
   "metadata": {},
   "source": [
    "Another way to resort our data is by hovering over the attribute -- here the blue bar and clicking on the down arrow."
   ]
  },
  {
   "cell_type": "markdown",
   "id": "c1a1d335-8162-4894-9388-fd52b655151d",
   "metadata": {},
   "source": [
    "<img src=\"./down-arrow.png\">"
   ]
  },
  {
   "cell_type": "markdown",
   "id": "92a4fcc3-9078-4515-9f1e-1332250e172a",
   "metadata": {},
   "source": [
    "And if you would like to reverse the order (so it's from least to most income), we can click on the arrow again."
   ]
  },
  {
   "cell_type": "markdown",
   "id": "378c1cf0-265d-4ff1-9681-f02be9ace20c",
   "metadata": {},
   "source": [
    "### Filtering Data"
   ]
  },
  {
   "cell_type": "markdown",
   "id": "a60d7e3f-b4f1-4ab3-b5e0-7771d0c12c7d",
   "metadata": {},
   "source": [
    "Now let's see how we can filter the data.  Let's say that we only want to see the incomes of movies made after 2010.  We can do so by dragging and dropping the year into the Filters box. "
   ]
  },
  {
   "cell_type": "markdown",
   "id": "71ca64bb-8148-474e-b7b8-d8d74e0cd109",
   "metadata": {},
   "source": [
    "<img src=\"filter-by.png\">"
   ]
  },
  {
   "cell_type": "markdown",
   "id": "00bfa464-5bef-4890-bd3e-f9ef55c9950b",
   "metadata": {},
   "source": [
    "From there, update the lower bound to be 2010, and click ok."
   ]
  },
  {
   "cell_type": "markdown",
   "id": "1ceb9588-a5a8-48db-b461-6e6bf4f82732",
   "metadata": {},
   "source": [
    "To go further, if you then click on the dropdown in filters, like you see above, you can select \"Show Filter\".  This brings up a slidebar to the right, that allows us to specify the year range of our data."
   ]
  },
  {
   "cell_type": "markdown",
   "id": "56163841-1e99-42cd-8a75-d5dd0af3b699",
   "metadata": {},
   "source": [
    "### Calculated Fields"
   ]
  },
  {
   "cell_type": "markdown",
   "id": "650965ec-963f-49ed-a0e6-7f8878602b8f",
   "metadata": {},
   "source": [
    "So far we have seen how to select columns of data, sort our data, and perform the equivalent of a Where clause by filtering our data.  \n",
    "\n",
    "But what if instead of displaying income, we want to display the profit per movie.  To do so, we'll need to use the Income and Budget columns to create a calculated field.  \n",
    "\n",
    "So move your cursor below the list of fields to the left, and then right click (or two finger click).  And then select `Create Calculated Field`.  "
   ]
  },
  {
   "cell_type": "markdown",
   "id": "e524b1a1-bbb4-4c3f-92f7-344fd36bdb22",
   "metadata": {},
   "source": [
    "<img src=\"./calculated-field.png\">"
   ]
  },
  {
   "cell_type": "markdown",
   "id": "9e64290f-ca8b-4f6d-bba1-1dff134e2d17",
   "metadata": {},
   "source": [
    "From here rename the field to Profit.  And drag and drop the Income and Budget fields into the box.  Place a minus sign between them and click apply."
   ]
  },
  {
   "cell_type": "markdown",
   "id": "6eb26f10-a571-47d3-87c5-0bfc47d20ab9",
   "metadata": {},
   "source": [
    "<img src=\"./calculation.png\" width=\"70%\">"
   ]
  },
  {
   "cell_type": "markdown",
   "id": "2013a8ce-763f-4278-97e3-d9fd9cb05847",
   "metadata": {},
   "source": [
    "We'll see profit show up under our list of fields to the left.\n",
    "\n",
    "Ok, so let's display profit in our chart.  Drag and drop the Profit field over to columns.  And also click on the current column of income, and move it back to the left where the fields are listed."
   ]
  },
  {
   "cell_type": "markdown",
   "id": "0d632c8c-d417-4e0d-af9e-ad8907a01fb1",
   "metadata": {},
   "source": [
    "<img src=\"./profit.png\">"
   ]
  },
  {
   "cell_type": "markdown",
   "id": "393833cd-61d0-494e-89b2-45db4afb0aee",
   "metadata": {},
   "source": [
    "So now we can see that we just added a calculated field."
   ]
  },
  {
   "cell_type": "markdown",
   "id": "c22768c1-10fa-432d-ba7e-0002862f2674",
   "metadata": {},
   "source": [
    "### Limiting"
   ]
  },
  {
   "cell_type": "markdown",
   "id": "eef01f9d-7b62-4cf9-a912-ccfc5839fea2",
   "metadata": {},
   "source": [
    "Now what if we want to show just the top five results of our query.  In other words, what if we want to perform the equivalent of a limit.  \n",
    "\n",
    "Doing so is a little tricky.  We first need to create a new calculated field and use the index calculation, specifying we want the index to be less than 6 (as it starts at 1)."
   ]
  },
  {
   "cell_type": "markdown",
   "id": "2a5532d0-73d0-4313-8ffd-097acdacc723",
   "metadata": {},
   "source": [
    "<img src=\"./index-lt.png\" width=\"40%\">"
   ]
  },
  {
   "cell_type": "markdown",
   "id": "e0abb3a2-23c1-4f9a-bde0-43e327266733",
   "metadata": {},
   "source": [
    "Then we can filter by this criteria.  Move the index field to the Filters box, and select `True`."
   ]
  },
  {
   "cell_type": "markdown",
   "id": "9e36ed2e-a24a-4697-b1b2-2e53610d6174",
   "metadata": {},
   "source": [
    "<img src=\"./filter-data.png\" width=\"40%\">"
   ]
  },
  {
   "cell_type": "markdown",
   "id": "985192f3-cd9d-47f5-b919-ca3ce9776355",
   "metadata": {},
   "source": [
    "At this point, we can see that our data is sorted by category name, as opposed to our sum.  So we can change how we sort our chart, by clicking on `Genre` at the top left of the chart, followed by `field` and then `SUM(income)`."
   ]
  },
  {
   "cell_type": "markdown",
   "id": "3d3c6f92-cc13-4e46-9ffd-59c6849fafd0",
   "metadata": {},
   "source": [
    "<img src=\"./sort-genre.png\">"
   ]
  },
  {
   "cell_type": "markdown",
   "id": "385aec58-a771-4474-8646-6fdf553c8a29",
   "metadata": {},
   "source": [
    "Another way to sort our data, is hover over the attribute -- here the bar representing income, and then click that."
   ]
  },
  {
   "cell_type": "markdown",
   "id": "bc21bba2-5858-4244-b821-2ad16b48165d",
   "metadata": {},
   "source": [
    "<img src=\"./sort-field.png\">"
   ]
  },
  {
   "cell_type": "markdown",
   "id": "493b5fcd-a00f-4cec-ab5a-1dd02fcd74ca",
   "metadata": {
    "tags": []
   },
   "source": [
    "### Changing the Group By"
   ]
  },
  {
   "cell_type": "markdown",
   "id": "a71a5a1b-d9e1-48d7-b3d7-dc2a55ab5d24",
   "metadata": {},
   "source": [
    "Ok, let's see what else we can change.  Let's double click on the Columns that says `SUM(Income)` and change the text to `AVG(Income)`."
   ]
  },
  {
   "cell_type": "markdown",
   "id": "74ac8ad8-f37b-4f01-9c8b-8026b656fad3",
   "metadata": {},
   "source": [
    "<img src=\"./avg-income.png\">"
   ]
  },
  {
   "cell_type": "markdown",
   "id": "302936f9-e055-4e03-b39f-460f74d4ff27",
   "metadata": {},
   "source": [
    "We'll see that we just changed the calculation, and that even at the bottom of our x axis, the label has changed to `Avg. Income`."
   ]
  },
  {
   "cell_type": "markdown",
   "id": "818af667-5e93-4c26-96c7-e70a8d99f78a",
   "metadata": {},
   "source": [
    "Ok, so far we saw how we can group our data by a specific attribute, like genre, and also how to change what we are calculating -- from sum to average.  We also saw how to sort our data by different attributes."
   ]
  }
 ],
 "metadata": {
  "kernelspec": {
   "display_name": "Python 3 (ipykernel)",
   "language": "python",
   "name": "python3"
  },
  "language_info": {
   "codemirror_mode": {
    "name": "ipython",
    "version": 3
   },
   "file_extension": ".py",
   "mimetype": "text/x-python",
   "name": "python",
   "nbconvert_exporter": "python",
   "pygments_lexer": "ipython3",
   "version": "3.9.12"
  }
 },
 "nbformat": 4,
 "nbformat_minor": 5
}
