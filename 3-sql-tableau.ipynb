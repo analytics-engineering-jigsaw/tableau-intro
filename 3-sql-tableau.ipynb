{
 "cells": [
  {
   "cell_type": "markdown",
   "id": "94dbc331-617b-4f79-9a9f-16ec4928d65f",
   "metadata": {},
   "source": [
    "# SQL to Tableau"
   ]
  },
  {
   "cell_type": "markdown",
   "id": "694ccb96-1b9a-4c32-a793-621cbf7a5837",
   "metadata": {},
   "source": [
    "### Introduction"
   ]
  },
  {
   "cell_type": "markdown",
   "id": "45dee623-e28d-4c1f-9a9d-8d9560126cba",
   "metadata": {},
   "source": [
    "In this lesson, we'll take a more structured look at working with charts in tableau.  We can continue working with our `top_movies.csv` file.  "
   ]
  },
  {
   "cell_type": "markdown",
   "id": "d3e6db1a-9c8b-4319-a27f-0224900e5088",
   "metadata": {},
   "source": [
    "### Selecting our data"
   ]
  },
  {
   "cell_type": "markdown",
   "id": "cd89671c-2484-463d-8e80-e6b1b3a2e89f",
   "metadata": {},
   "source": [
    "From the first worksheet, we should see `top_movies` listed in the top left as our data source.\n",
    "\n",
    "And then let's drag the Title dimension into our working area.  \n",
    "> We saw that if we drag a dimension like `Category` into worksheet, tableau will automatically group by this dimension.  So by using title, we only have one record per each group -- simplifying things a bit."
   ]
  },
  {
   "cell_type": "markdown",
   "id": "dc32a9ab-ec3a-4169-867e-0252d4ba8c69",
   "metadata": {},
   "source": [
    "<img src=\"./title.png\" width=\"70%\">"
   ]
  },
  {
   "cell_type": "markdown",
   "id": "11a34022-66e7-4bab-9f6f-8050128fb5b8",
   "metadata": {},
   "source": [
    "You can see that this created a table, and that each row is a different title.  You can also see that `title` is listed in the `Rows` field up top."
   ]
  },
  {
   "cell_type": "markdown",
   "id": "9c0b12db-2782-4241-ab92-80e1ab74e8f8",
   "metadata": {},
   "source": [
    "Now click on the Income field over to the left, and drag and drop it over to columns."
   ]
  },
  {
   "cell_type": "markdown",
   "id": "551ba918-98e6-467a-9734-f7e6372265b9",
   "metadata": {},
   "source": [
    "<img src=\"./title-income.png\">"
   ]
  },
  {
   "cell_type": "markdown",
   "id": "f44bbaf2-1406-4298-bdb6-55d76daa861b",
   "metadata": {},
   "source": [
    "We can see that it automatically changed our data into a bar chart.  \n",
    "\n",
    "Remember that we income is displayed horizontally because it's listed under columns.  \n",
    "\n",
    "> The other thing you'll notice is that it says `Sum(Income)` under Columns.  But here, there is only one record per title -- so applying the sum has no effect."
   ]
  },
  {
   "cell_type": "markdown",
   "id": "44007aa3-db20-41b6-b947-bd5528b1029d",
   "metadata": {},
   "source": [
    "### Sorting"
   ]
  },
  {
   "cell_type": "markdown",
   "id": "473a4de0-6f44-4b0b-86f9-ff3d03b7805e",
   "metadata": {},
   "source": [
    "Ok, now let's sort our data.  Currently our data is sorted by the Title of the movie.  But we can instead sort our data by income if we click on the word Title, then choose field and Sum(Income)."
   ]
  },
  {
   "cell_type": "markdown",
   "id": "3b925ce0-90aa-47b3-9296-0a40405afcbb",
   "metadata": {},
   "source": [
    "<img src=\"./sorting-data.png\">"
   ]
  },
  {
   "cell_type": "markdown",
   "id": "7b8d3b71-2e77-41e9-b7a8-7ff0ce48787a",
   "metadata": {},
   "source": [
    "Another way to resort our data is by hovering over the attribute -- here the blue bar and clicking on the down arrow."
   ]
  },
  {
   "cell_type": "markdown",
   "id": "c1a1d335-8162-4894-9388-fd52b655151d",
   "metadata": {},
   "source": [
    "<img src=\"./down-arrow.png\">"
   ]
  },
  {
   "cell_type": "markdown",
   "id": "92a4fcc3-9078-4515-9f1e-1332250e172a",
   "metadata": {},
   "source": [
    "And if you would like to reverse the order (so it's from least to most income), we can click on the arrow again."
   ]
  },
  {
   "cell_type": "markdown",
   "id": "378c1cf0-265d-4ff1-9681-f02be9ace20c",
   "metadata": {},
   "source": [
    "### Filtering Data"
   ]
  },
  {
   "cell_type": "markdown",
   "id": "a60d7e3f-b4f1-4ab3-b5e0-7771d0c12c7d",
   "metadata": {},
   "source": [
    "Now let's see how we can filter the data.  Let's say that we only want to see the incomes of movies made after 2010.  We can do so by dragging and dropping the year into the Filters box - between the list of columns and the working area. "
   ]
  },
  {
   "cell_type": "markdown",
   "id": "71ca64bb-8148-474e-b7b8-d8d74e0cd109",
   "metadata": {},
   "source": [
    "<img src=\"filter-by.png\">"
   ]
  },
  {
   "cell_type": "markdown",
   "id": "00bfa464-5bef-4890-bd3e-f9ef55c9950b",
   "metadata": {},
   "source": [
    "From there, update the lower bound to be 2010, and click ok."
   ]
  },
  {
   "cell_type": "markdown",
   "id": "1ceb9588-a5a8-48db-b461-6e6bf4f82732",
   "metadata": {},
   "source": [
    "To go further, if you then click on the dropdown in filters (like you see above) you can select \"Show Filter\".  This brings up a slidebar to the right, that allows us to specify the year range of our data."
   ]
  },
  {
   "cell_type": "markdown",
   "id": "56163841-1e99-42cd-8a75-d5dd0af3b699",
   "metadata": {},
   "source": [
    "### Calculated Fields"
   ]
  },
  {
   "cell_type": "markdown",
   "id": "650965ec-963f-49ed-a0e6-7f8878602b8f",
   "metadata": {},
   "source": [
    "So far we have seen how to:\n",
    "* Select columns of data,\n",
    "* Sort our data, and \n",
    "* Filter our data.  \n",
    "\n",
    "But what if instead of displaying income, we want to display the profit per movie.  To do so, we'll need to use the Income and Budget columns to create a new field.  Tableau calls this a *calculated field*.  \n",
    "\n",
    "So move your cursor below the list of fields to the left, and then right click (or two finger click), and select `Create Calculated Field`.  "
   ]
  },
  {
   "cell_type": "markdown",
   "id": "e524b1a1-bbb4-4c3f-92f7-344fd36bdb22",
   "metadata": {},
   "source": [
    "<img src=\"./calculated-field.png\">"
   ]
  },
  {
   "cell_type": "markdown",
   "id": "9e64290f-ca8b-4f6d-bba1-1dff134e2d17",
   "metadata": {},
   "source": [
    "From here rename the field to Profit.  And drag and drop the Income and Budget fields into the box.  Place a minus sign between them and click apply."
   ]
  },
  {
   "cell_type": "markdown",
   "id": "6eb26f10-a571-47d3-87c5-0bfc47d20ab9",
   "metadata": {},
   "source": [
    "<img src=\"./calculation.png\" width=\"70%\">"
   ]
  },
  {
   "cell_type": "markdown",
   "id": "2013a8ce-763f-4278-97e3-d9fd9cb05847",
   "metadata": {},
   "source": [
    "We'll see profit show up under our list of fields to the left.\n",
    "\n",
    "Ok, so let's display profit in our chart.  Drag and drop the Profit field over to columns.  And also click on the current column of income, and move it back to the left where the fields are listed."
   ]
  },
  {
   "cell_type": "markdown",
   "id": "0d632c8c-d417-4e0d-af9e-ad8907a01fb1",
   "metadata": {},
   "source": [
    "<img src=\"./profit.png\">"
   ]
  },
  {
   "cell_type": "markdown",
   "id": "393833cd-61d0-494e-89b2-45db4afb0aee",
   "metadata": {},
   "source": [
    "So now just added our first calculated field of profit."
   ]
  },
  {
   "cell_type": "markdown",
   "id": "c22768c1-10fa-432d-ba7e-0002862f2674",
   "metadata": {},
   "source": [
    "### Limiting"
   ]
  },
  {
   "cell_type": "markdown",
   "id": "eef01f9d-7b62-4cf9-a912-ccfc5839fea2",
   "metadata": {},
   "source": [
    "Now what if we want to show just the top five results of our query.  In other words, what if we want to perform the equivalent of a limit.  \n",
    "\n",
    "Doing so is a little tricky.  We first need to create a new **calculated field** and use the index calculation, specifying we want the index to be less than 6 (as it starts at 1)."
   ]
  },
  {
   "cell_type": "markdown",
   "id": "2a5532d0-73d0-4313-8ffd-097acdacc723",
   "metadata": {},
   "source": [
    "<img src=\"./index-lt.png\" width=\"40%\">"
   ]
  },
  {
   "cell_type": "markdown",
   "id": "e0abb3a2-23c1-4f9a-bde0-43e327266733",
   "metadata": {},
   "source": [
    "Then we can filter by this criteria.  Move the index field to the Filters box, and select `True`."
   ]
  },
  {
   "cell_type": "markdown",
   "id": "9e36ed2e-a24a-4697-b1b2-2e53610d6174",
   "metadata": {},
   "source": [
    "<img src=\"./filter-data.png\" width=\"40%\">"
   ]
  },
  {
   "cell_type": "markdown",
   "id": "4e418e11-0784-4663-adee-57ab25a9db52",
   "metadata": {},
   "source": [
    "### Summary"
   ]
  },
  {
   "cell_type": "markdown",
   "id": "f2f7e529-e0af-42ef-8498-a4a002aaa650",
   "metadata": {},
   "source": [
    "So in this lesson, we went through our unaggregated SQL operations.  We moved through:"
   ]
  },
  {
   "cell_type": "markdown",
   "id": "06240c66-ddf4-4821-ba8a-3b95b28eb4f6",
   "metadata": {},
   "source": [
    "* Sorting our data"
   ]
  },
  {
   "cell_type": "markdown",
   "id": "cc5d0182-59ce-440d-938e-27ec4f58c319",
   "metadata": {},
   "source": [
    "<img src=\"./sorting-data.png\">"
   ]
  },
  {
   "cell_type": "markdown",
   "id": "0df84b67-9222-45ad-89f3-109e04b793e3",
   "metadata": {},
   "source": [
    "* Filtering our data\n",
    "\n",
    "By dragging an attribute into filters."
   ]
  },
  {
   "cell_type": "markdown",
   "id": "ecbf3e62-bdbb-4c5d-b132-c64bfdc962bf",
   "metadata": {},
   "source": [
    "<img src=\"filter-by.png\">"
   ]
  },
  {
   "cell_type": "markdown",
   "id": "9a850e93-3967-42ef-971e-d9b167da36a2",
   "metadata": {},
   "source": [
    "* Creating a calculated field"
   ]
  },
  {
   "cell_type": "markdown",
   "id": "5d449128-d652-4bcd-9311-a0c5b30ad900",
   "metadata": {},
   "source": [
    "<img src=\"./calculation.png\" width=\"70%\">"
   ]
  },
  {
   "cell_type": "markdown",
   "id": "86a0b5de-1e08-46e9-b46a-d1da7b8a0bc2",
   "metadata": {},
   "source": [
    "And then using a calculated field (combined with index) to apply a limit."
   ]
  },
  {
   "cell_type": "markdown",
   "id": "ad692f3d-6490-416d-8057-744267542c72",
   "metadata": {},
   "source": [
    "<img src=\"./index-lt.png\" width=\"40%\">"
   ]
  }
 ],
 "metadata": {
  "kernelspec": {
   "display_name": "Python 3 (ipykernel)",
   "language": "python",
   "name": "python3"
  },
  "language_info": {
   "codemirror_mode": {
    "name": "ipython",
    "version": 3
   },
   "file_extension": ".py",
   "mimetype": "text/x-python",
   "name": "python",
   "nbconvert_exporter": "python",
   "pygments_lexer": "ipython3",
   "version": "3.9.12"
  }
 },
 "nbformat": 4,
 "nbformat_minor": 5
}
