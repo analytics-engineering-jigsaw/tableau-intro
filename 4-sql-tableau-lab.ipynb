{
 "cells": [
  {
   "cell_type": "markdown",
   "id": "77ec18b6-5429-4f84-8380-52bcf54d2096",
   "metadata": {},
   "source": [
    "# Sql to Tableau Lab"
   ]
  },
  {
   "cell_type": "markdown",
   "id": "dcee1c85-c862-4638-9f4a-980e472aa0ca",
   "metadata": {},
   "source": [
    "### Introduction"
   ]
  },
  {
   "cell_type": "markdown",
   "id": "ba9832e6-fc85-494b-8cde-6796e098d665",
   "metadata": {},
   "source": [
    "In this lesson, we'll work with our olist dataset to practice filtering our data, using calculated fields and even joining datasets.  \n",
    "\n",
    "Let's get started."
   ]
  },
  {
   "cell_type": "markdown",
   "id": "5630c953-3c1e-416d-a33c-7a463ec8be95",
   "metadata": {},
   "source": [
    "### Filtering Data"
   ]
  },
  {
   "cell_type": "markdown",
   "id": "8e985de4-894d-4681-9a96-c55aa9155908",
   "metadata": {},
   "source": [
    "Let's get started with filtering data.  Let's only display products whos revenue accounted for over 35,000."
   ]
  },
  {
   "cell_type": "markdown",
   "id": "1ee22659-ed57-4ccd-8ea0-e0d2a15596e1",
   "metadata": {},
   "source": [
    "We can do this by clicking on the arrow next to Sum(Price), and then click on `Show Filter`."
   ]
  },
  {
   "cell_type": "markdown",
   "id": "f2d5a339-48b5-4a2d-98e3-8e264ad8a20e",
   "metadata": {},
   "source": [
    "<img src=\"./show-filter.png\" width=\"60%\">"
   ]
  },
  {
   "cell_type": "markdown",
   "id": "a0f77c99-27a4-4e19-a147-d4c945fef17a",
   "metadata": {},
   "source": [
    "Then we can adjust the filter to the right to only show products that accounted for over `35,000` in revenue."
   ]
  },
  {
   "cell_type": "markdown",
   "id": "e223d167-690c-4bfe-ba66-2e97154b4062",
   "metadata": {},
   "source": [
    "<img src=\"./filter-over.png\">"
   ]
  },
  {
   "cell_type": "markdown",
   "id": "88f0e458-60a5-48bf-8c21-98abc3b6ea27",
   "metadata": {},
   "source": [
    "### Calculated Fields"
   ]
  },
  {
   "cell_type": "markdown",
   "id": "98dfe294-b56a-4381-ae8f-1fdb076159c5",
   "metadata": {},
   "source": [
    "Now let's practice creating a calculated field.  \n",
    "\n",
    "First let's create a field called `Price over Freight`.  We can do this by right clicking on the panel where the measures are, and then selecting create calculated field.\n",
    "\n",
    "The calculation for the Price Over Freight field should simply be `price - freight`.  In other words the revenue - shipping costs.  Then display the monthly price (ie revenue) chart side by side the monthly price over freight chart. "
   ]
  },
  {
   "cell_type": "markdown",
   "id": "cd03031d-2da7-49bf-bbe9-16d0186226fb",
   "metadata": {},
   "source": [
    "<img src=\"./calculated-field-freight.png\" width=\"60%\">"
   ]
  },
  {
   "cell_type": "markdown",
   "id": "7ede2879-fa7a-457d-9666-391027978829",
   "metadata": {},
   "source": [
    "Notice that if we hover over a bar, like Jan 2017, we see that `Price` is 80,125, while `Price over freight` is a little over `68,051`.\n",
    "\n",
    "Next, let's add another filter, on year, and unselect 2020."
   ]
  },
  {
   "cell_type": "markdown",
   "id": "3cf6cd4d-3b3c-4f40-b416-e5f01abf4b68",
   "metadata": {},
   "source": [
    "<img src=\"./unselect-2020.png\" width=\"70%\">"
   ]
  },
  {
   "cell_type": "markdown",
   "id": "66b4da4f-a27b-407c-9efe-c2dfb360b39a",
   "metadata": {},
   "source": [
    "### Joining data"
   ]
  },
  {
   "cell_type": "markdown",
   "id": "4bc0af69-6812-4a87-bb2f-350ed8775862",
   "metadata": {},
   "source": [
    "Ok, now let's try joining data.  To achieve this, we can first click on Data Source in the bottom right of Tableau."
   ]
  },
  {
   "cell_type": "markdown",
   "id": "77e473fa-6cbe-4b3f-92da-517662f8529d",
   "metadata": {},
   "source": [
    "<img src=\"./data-source.png\" width=\"70%\">"
   ]
  },
  {
   "cell_type": "markdown",
   "id": "290158e8-8e97-4a30-9299-18212c8ceb94",
   "metadata": {},
   "source": [
    "And then go to the data folder, and drag and drop the `olist_products.csv` file into the connections - or into the main panel."
   ]
  },
  {
   "cell_type": "markdown",
   "id": "dae4feb8-f7ae-43e6-8ec6-c964442d8f5a",
   "metadata": {},
   "source": [
    "<img src=\"./olist-conn.png\" width=\"70%\">"
   ]
  },
  {
   "cell_type": "markdown",
   "id": "927962a1-a721-47f6-915b-9e6acfc6ea22",
   "metadata": {},
   "source": [
    "You can then click and drag `olist_products.csv` over to the main white panel.  We should see a line connect our two data csv files.  "
   ]
  },
  {
   "cell_type": "markdown",
   "id": "f13124c1-0bdf-48f1-8fe5-1d63d2c77eb0",
   "metadata": {},
   "source": [
    "> <img src=\"./join-data.png\">"
   ]
  },
  {
   "cell_type": "markdown",
   "id": "a4878c0c-11cf-489e-a297-2637498e5ac5",
   "metadata": {},
   "source": [
    "Towards the bottom you can see the calculation being performed.  And this is that rows are joined where the Product Id from the `olist_order_items` dataset equals Product Id from the `olist_products` dataset."
   ]
  },
  {
   "cell_type": "markdown",
   "id": "e49b6015-6db3-4878-992d-b851e6537f49",
   "metadata": {},
   "source": [
    "* Using our joins"
   ]
  },
  {
   "cell_type": "markdown",
   "id": "3ab1314a-5c6d-4065-9ab4-ebf0807b8a51",
   "metadata": {},
   "source": [
    "Now create another worksheet, and notice that we have a lot more fields."
   ]
  },
  {
   "cell_type": "markdown",
   "id": "78d3cbaa-47bf-4856-a41c-649a6ec39840",
   "metadata": {},
   "source": [
    "<img src=\"./additional-field.png\" width=\"70%\">"
   ]
  },
  {
   "cell_type": "markdown",
   "id": "9c45e87b-037d-4cd9-8c76-282cd60a87cf",
   "metadata": {},
   "source": [
    "And this time let's plot the total revenue by product category, and sort from most to least revenue."
   ]
  },
  {
   "cell_type": "markdown",
   "id": "25c6e8c8-149a-4cad-b07a-1ca749735ea9",
   "metadata": {},
   "source": [
    "<img src=\"./product-category.png\" width=\"80%\">"
   ]
  },
  {
   "cell_type": "markdown",
   "id": "aa1f7480-f699-4569-a3ac-83eff8b6aaf7",
   "metadata": {},
   "source": [
    "* Limiting "
   ]
  },
  {
   "cell_type": "markdown",
   "id": "1ceba080-8790-41ee-a263-0d657fd4057a",
   "metadata": {},
   "source": [
    "Ok, now let's try to limit to the top ten categories.  So to do this we'll first need to create a calculated field called `index` and use the `index()` method."
   ]
  },
  {
   "cell_type": "markdown",
   "id": "c3804057-085d-4cda-92f8-0f98decae5e8",
   "metadata": {},
   "source": [
    "<img src=\"./index-create.png\" width=\"60%\">"
   ]
  },
  {
   "cell_type": "markdown",
   "id": "a0392313-3c16-447a-9588-53c23ac68e67",
   "metadata": {},
   "source": [
    "Then create a filter from the index field, to limit by the index."
   ]
  },
  {
   "cell_type": "markdown",
   "id": "1be938e3-6c7a-4f3a-8953-7574e3099f66",
   "metadata": {},
   "source": [
    "<img src=\"./top-ten.png\">"
   ]
  },
  {
   "cell_type": "markdown",
   "id": "844adfe0-ba4c-4988-a31d-14f54a31c1f0",
   "metadata": {},
   "source": [
    "### Summary"
   ]
  },
  {
   "cell_type": "markdown",
   "id": "aaae5133-e93f-498d-abc1-aa60eae092a4",
   "metadata": {},
   "source": [
    "In this lesson, we moved through a lot of our SQL functions and saw how they translated in tableau.\n",
    "\n",
    "This included sorting our data, creating calculated fields, joining our data, and then limiting our data."
   ]
  },
  {
   "cell_type": "code",
   "execution_count": null,
   "id": "35da99f0-b8ba-4ef4-be12-e24e7281e750",
   "metadata": {},
   "outputs": [],
   "source": []
  }
 ],
 "metadata": {
  "kernelspec": {
   "display_name": "Python 3 (ipykernel)",
   "language": "python",
   "name": "python3"
  },
  "language_info": {
   "codemirror_mode": {
    "name": "ipython",
    "version": 3
   },
   "file_extension": ".py",
   "mimetype": "text/x-python",
   "name": "python",
   "nbconvert_exporter": "python",
   "pygments_lexer": "ipython3",
   "version": "3.9.12"
  }
 },
 "nbformat": 4,
 "nbformat_minor": 5
}
