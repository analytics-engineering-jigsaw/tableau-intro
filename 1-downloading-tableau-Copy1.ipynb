{
 "cells": [
  {
   "cell_type": "markdown",
   "id": "4e3c956e-890d-49c8-b13d-b91596c93a6b",
   "metadata": {},
   "source": [
    "# Getting Started"
   ]
  },
  {
   "cell_type": "markdown",
   "id": "9a008eda-9a5b-41c3-8ff8-a8cf49e5c974",
   "metadata": {},
   "source": [
    "### Introduction"
   ]
  },
  {
   "cell_type": "markdown",
   "id": "f7c66420-813b-436b-8b7f-3698cd49c117",
   "metadata": {},
   "source": [
    "In this lesson, we'll sign up for tableau, and begin working with our dataset.  Let's get started."
   ]
  },
  {
   "cell_type": "markdown",
   "id": "b53ba3f8-8122-4779-8a41-9d360311b3b1",
   "metadata": {},
   "source": [
    "### Downloading Tableau"
   ]
  },
  {
   "cell_type": "markdown",
   "id": "11506575-8198-4802-84c0-6359ecf926a9",
   "metadata": {},
   "source": [
    "We can download tableau by going to the [following link](https://www.tableau.com/products/desktop/download).  We'll be downloading tableau desktop, which means that we'll have tableau installed on our computer."
   ]
  },
  {
   "cell_type": "markdown",
   "id": "60b36d4f-178b-4d42-a78d-771cbbd0daca",
   "metadata": {},
   "source": [
    "<img src=\"./download-public.png\">"
   ]
  },
  {
   "cell_type": "markdown",
   "id": "91e01dd2-2146-4f86-a21d-2c67f617a819",
   "metadata": {},
   "source": [
    "### Connecting a data source"
   ]
  },
  {
   "cell_type": "markdown",
   "id": "b7c0d189-bbf0-4c87-bde5-769bdf9c325e",
   "metadata": {},
   "source": [
    "When you open tableau public, the first thing you'll see is an option to connect a data source.  You can see different options on the left.  But for us, we can just drag and drop the `top_movies.csv` file located in the data directly into the main white under the word Open."
   ]
  },
  {
   "cell_type": "markdown",
   "id": "adb00d4a-0993-4e7e-8aaf-0776296a95bc",
   "metadata": {},
   "source": [
    "<img src=\"./top_movies.png\" width=\"50%\">"
   ]
  },
  {
   "cell_type": "markdown",
   "id": "52597998-9b2c-4cca-a911-7741b096fbd1",
   "metadata": {},
   "source": [
    "After dragging and dropping in the csv file, we'll immediately be taken to the connection manager for the data source."
   ]
  },
  {
   "cell_type": "markdown",
   "id": "fa151400-db8c-4fde-a566-257b5fb22a22",
   "metadata": {},
   "source": [
    "<img src=\"./connection.png\">"
   ]
  },
  {
   "cell_type": "markdown",
   "id": "bbad9703-f3c6-4b0a-894b-b2bea36f5657",
   "metadata": {},
   "source": [
    "You can see the different data sources (I added some additional ones), and the `top_movies.csv` in the top left as the selected connection."
   ]
  },
  {
   "cell_type": "markdown",
   "id": "47647ca5-7cd6-4f17-92b9-9bc814f510f4",
   "metadata": {},
   "source": [
    "At the bottom you can see a preview of the data."
   ]
  },
  {
   "cell_type": "markdown",
   "id": "c583bc84-7a89-4a84-81fc-13738beb9d65",
   "metadata": {},
   "source": [
    "> <img src=\"./preview.png\">"
   ]
  },
  {
   "cell_type": "markdown",
   "id": "8d3425b9-ef7b-454f-b8be-bc1f1e39682d",
   "metadata": {},
   "source": [
    "And above each column name you can see the data type identified by tableau.  For example, above Year you can see the `#` as it's numeric data, the Date Published has a calendar icon for a date, and the `Abc` above Title is because the data is text based."
   ]
  },
  {
   "cell_type": "markdown",
   "id": "162458c1-d794-4b47-81c6-f42ab865f9ad",
   "metadata": {},
   "source": [
    "So as you can see, the connection manager is a way to explore our different data sources."
   ]
  },
  {
   "cell_type": "markdown",
   "id": "48955942-42cf-49ca-99c6-df85313da158",
   "metadata": {},
   "source": [
    "### Our first sheet"
   ]
  },
  {
   "cell_type": "markdown",
   "id": "393f4960-786b-4269-87ac-f7291c3c68f5",
   "metadata": {},
   "source": [
    "Ok, now it's time to work with our data.  Click on `Sheet 1` tab at the bottom of the screen, and you'll be taken to that **worksheet** with our `top_movies` data source connected to it."
   ]
  },
  {
   "cell_type": "markdown",
   "id": "12ee11c6-cb44-4170-9215-953d417fa028",
   "metadata": {},
   "source": [
    "<img src=\"./sheet_1.png\">"
   ]
  },
  {
   "cell_type": "markdown",
   "id": "26847e06-e776-40c0-a1eb-40fe34e7d6f6",
   "metadata": {},
   "source": [
    "Our worksheet really consists of two sections: the `Data tab` on the left, and our `working area` in the center."
   ]
  },
  {
   "cell_type": "markdown",
   "id": "cee88733-1c1a-4a42-9229-a611edcaa4e7",
   "metadata": {},
   "source": [
    "Let's focus on the Data tab for now.  If you look closely, you'll see that tableau separated our columns so that the text data shows up first, and the numeric data comes second.  \n",
    "\n",
    "The text data is referred to as *dimensions* whereas the numerical data is our *measures*."
   ]
  },
  {
   "cell_type": "markdown",
   "id": "179dc88e-5bfe-4675-9e82-510735d81e45",
   "metadata": {},
   "source": [
    "### The working area"
   ]
  },
  {
   "cell_type": "markdown",
   "id": "132f6564-2b5f-4ab3-bbd2-34f61c4cc770",
   "metadata": {},
   "source": [
    "Now let's focus on the working area.  We can begin using the working area by dragging and dropping a couple of columns that we want to focus on."
   ]
  },
  {
   "cell_type": "markdown",
   "id": "b04d59c9-45e1-466c-bc5d-7f7df419773a",
   "metadata": {},
   "source": [
    "To start, we can drag the column `Genre` in the main area under `Sheet 1`.  And then we can also drag in `income`."
   ]
  },
  {
   "cell_type": "markdown",
   "id": "57b200a1-9acc-4ff5-a239-3da9eabfd2de",
   "metadata": {},
   "source": [
    "<img src=\"./genre-income.png\">"
   ]
  },
  {
   "cell_type": "markdown",
   "id": "c00746c2-3f9b-4f64-a5be-610a95817396",
   "metadata": {},
   "source": [
    "> You can see that tableau is performing `Sum(Income)` in green above."
   ]
  },
  {
   "cell_type": "markdown",
   "id": "b9ba580a-8b22-40d3-b027-775fbe4776b7",
   "metadata": {},
   "source": [
    "If you take the `Sum(Income)` and drag it to columns, then you'll see that turn it to a horizontal chart.  "
   ]
  },
  {
   "cell_type": "markdown",
   "id": "b6abca2c-4063-4dfb-b8e8-cc1a84afeb4b",
   "metadata": {},
   "source": [
    "<img src=\"genre-chart.png\" width=\"70%\">"
   ]
  },
  {
   "cell_type": "markdown",
   "id": "9f6bfd5b-6538-4a7d-a5e5-c02d63b7622c",
   "metadata": {},
   "source": [
    "> So `columns` just means what's on the X axis, whereas `rows` is on the y axis.  You can always turn the above into a vertical bar chart by switching what's in the rows and columns."
   ]
  },
  {
   "cell_type": "markdown",
   "id": "e7547a61-af64-4a9e-acf0-cf70fdb55cb9",
   "metadata": {},
   "source": [
    "At this point, we can see that our data is sorted by category name, as opposed to our sum.  So we can change how we sort our chart by clicking on `Genre` at the top left of the chart, followed by `field` and then `SUM(income)`."
   ]
  },
  {
   "cell_type": "markdown",
   "id": "ff3247b2-530e-4cc4-b574-6198ac613574",
   "metadata": {},
   "source": [
    "<img src=\"./sort-genre.png\">"
   ]
  },
  {
   "cell_type": "markdown",
   "id": "4eacde0f-a5c3-41d9-8e18-657fedbd4904",
   "metadata": {},
   "source": [
    "Another way to sort our data, is hover over the attribute -- here the bar representing income, and then click that."
   ]
  },
  {
   "cell_type": "markdown",
   "id": "14b16768-ffc4-49f8-9a62-5160151456d8",
   "metadata": {},
   "source": [
    "<img src=\"./sort-field.png\">"
   ]
  },
  {
   "cell_type": "markdown",
   "id": "6fcf818c-6ecd-46f8-8f17-03c2f42d099f",
   "metadata": {
    "tags": []
   },
   "source": [
    "### Changing the Group By"
   ]
  },
  {
   "cell_type": "markdown",
   "id": "163ccb8f-c40d-4421-9da1-780b4e7c7348",
   "metadata": {},
   "source": [
    "Ok, let's see what else we can change.  Let's double click on the Columns that says `SUM(Income)` and change the text to `AVG(Income)`."
   ]
  },
  {
   "cell_type": "markdown",
   "id": "689499e8-a29e-4c5a-ae37-8884bd8fd59b",
   "metadata": {},
   "source": [
    "<img src=\"./avg-income.png\">"
   ]
  },
  {
   "cell_type": "markdown",
   "id": "0edcdfd1-51d6-43f2-9bd3-471ff0049154",
   "metadata": {},
   "source": [
    "We'll see that we just changed the calculation, and that even at the bottom of our x axis, the label has changed to `Avg. Income`."
   ]
  },
  {
   "cell_type": "markdown",
   "id": "06df0955-a98d-48b6-96ab-94403bf2493f",
   "metadata": {},
   "source": [
    "### Summary"
   ]
  },
  {
   "cell_type": "markdown",
   "id": "445fae81-e3a9-4b52-83ec-29fc0e4dc8a8",
   "metadata": {},
   "source": [
    "So in this lesson, we got started with using tableau."
   ]
  },
  {
   "cell_type": "code",
   "execution_count": null,
   "id": "51482f6c-72dd-49cb-8efd-7ef9ef6a739f",
   "metadata": {},
   "outputs": [],
   "source": []
  }
 ],
 "metadata": {
  "kernelspec": {
   "display_name": "Python 3 (ipykernel)",
   "language": "python",
   "name": "python3"
  },
  "language_info": {
   "codemirror_mode": {
    "name": "ipython",
    "version": 3
   },
   "file_extension": ".py",
   "mimetype": "text/x-python",
   "name": "python",
   "nbconvert_exporter": "python",
   "pygments_lexer": "ipython3",
   "version": "3.9.12"
  }
 },
 "nbformat": 4,
 "nbformat_minor": 5
}
